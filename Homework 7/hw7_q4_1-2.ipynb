{
 "cells": [
  {
   "cell_type": "code",
   "execution_count": 50,
   "metadata": {},
   "outputs": [],
   "source": [
    "import numpy as np"
   ]
  },
  {
   "cell_type": "code",
   "execution_count": 51,
   "metadata": {},
   "outputs": [],
   "source": [
    "def getNextState(cur_pos, action):\n",
    "    if (action == 1):\n",
    "        return (cur_pos+1)%2\n",
    "    else:\n",
    "        return cur_pos"
   ]
  },
  {
   "cell_type": "code",
   "execution_count": 52,
   "metadata": {},
   "outputs": [
    {
     "name": "stdout",
     "output_type": "stream",
     "text": [
      "[[0.0, 0], [0, 0]]\n"
     ]
    }
   ],
   "source": [
    "q_matrix = [[0, 0],\n",
    "            [0, 0]]\n",
    "\n",
    "discount = 0.8\n",
    "alpha = 0.5\n",
    "cur_pos=0\n",
    "actions=['Stay',\"Move\"]\n",
    "loc=['A','B']\n",
    "for _ in range(200):\n",
    "    if q_matrix[cur_pos][0]==q_matrix[cur_pos][1]:\n",
    "        action = 0\n",
    "    else:\n",
    "        action = q_matrix[cur_pos].index(max(q_matrix[cur_pos]))\n",
    "    next_state = getNextState(cur_pos, action)\n",
    "    # update the q_matrix\n",
    "    q_matrix[cur_pos][action] = (1-alpha) * q_matrix[cur_pos][action] + alpha * (action + \n",
    "                                        discount * max(q_matrix[next_state]))\n",
    "    # print(loc[cur_pos], actions[action],loc[next_state])\n",
    "    cur_pos=next_state\n",
    "print(q_matrix)"
   ]
  },
  {
   "cell_type": "code",
   "execution_count": 53,
   "metadata": {},
   "outputs": [
    {
     "name": "stdout",
     "output_type": "stream",
     "text": [
      "[[3.9986734438120326, 4.999857660105508], [3.999304586422446, 4.9998477398908685]]\n"
     ]
    }
   ],
   "source": [
    "q_matrix = [[0, 0],\n",
    "            [0, 0]]\n",
    "discount = 0.8\n",
    "alpha = 0.5\n",
    "cur_pos = 0\n",
    "eps = 0.5\n",
    "actions = ['Stay','Move']\n",
    "loc = ['A','B']\n",
    "\n",
    "for i in range(200):\n",
    "    epsx = np.random.rand()\n",
    "    if epsx>eps:\n",
    "        if q_matrix[cur_pos][0]==q_matrix[cur_pos][1]:\n",
    "            action = int(np.random.rand()>=0.5)\n",
    "        else:\n",
    "            action = q_matrix[cur_pos].index(max(q_matrix[cur_pos]))\n",
    "    else:\n",
    "        movechoice = np.random.rand()\n",
    "        action = int(movechoice>=0.5)\n",
    "    next_state = getNextState(cur_pos, action)\n",
    "    # update the q_matrix\n",
    "    q_matrix[cur_pos][action] = (1-alpha) * q_matrix[cur_pos][action] + alpha * (action + \n",
    "                                        discount * max(q_matrix[next_state]))\n",
    "    cur_pos=next_state\n",
    "print(q_matrix)"
   ]
  }
 ],
 "metadata": {
  "kernelspec": {
   "display_name": "Python 3",
   "language": "python",
   "name": "python3"
  },
  "language_info": {
   "codemirror_mode": {
    "name": "ipython",
    "version": 3
   },
   "file_extension": ".py",
   "mimetype": "text/x-python",
   "name": "python",
   "nbconvert_exporter": "python",
   "pygments_lexer": "ipython3",
   "version": "3.7.9"
  },
  "orig_nbformat": 4
 },
 "nbformat": 4,
 "nbformat_minor": 2
}
