{
 "cells": [
  {
   "cell_type": "code",
   "execution_count": 1,
   "metadata": {},
   "outputs": [],
   "source": [
    "import matplotlib.pyplot as plt\n",
    "from torchvision import datasets, transforms\n",
    "from torch.utils.data import DataLoader\n",
    "import torch\n",
    "\n",
    "transform = transforms.Compose([transforms.ToTensor(),\n",
    "                                transforms.Normalize((0.5,), (0.5,)),\n",
    "                                ])"
   ]
  },
  {
   "cell_type": "code",
   "execution_count": 22,
   "metadata": {},
   "outputs": [],
   "source": [
    "batch=32\n",
    "lr=0.01\n",
    "hidden_layers = [300,200]\n",
    "output_size = 10"
   ]
  },
  {
   "cell_type": "code",
   "execution_count": 23,
   "metadata": {},
   "outputs": [],
   "source": [
    "\n",
    "trainset = datasets.MNIST('./dataset/MNIST', train=True, transform=transform, download=True)\n",
    "trainloader = DataLoader(trainset, batch_size=batch, shuffle=True)\n",
    "\n",
    "testset = datasets.MNIST('./dataset/MNIST', train=False, transform=transform, download=True)\n",
    "testloader = DataLoader(testset, batch_size=batch, shuffle=True)\n",
    "\n",
    "input_size = trainloader.dataset.train_data.shape[1] * trainloader.dataset.train_data.shape[2]"
   ]
  },
  {
   "cell_type": "code",
   "execution_count": null,
   "metadata": {},
   "outputs": [],
   "source": [
    "def init_weights(m):\n",
    "    if type(m) == torch.nn.Linear:\n",
    "        torch.nn.init.uniform_(m.weight,-1.0,1.0)"
   ]
  },
  {
   "cell_type": "code",
   "execution_count": 25,
   "metadata": {},
   "outputs": [
    {
     "name": "stdout",
     "output_type": "stream",
     "text": [
      "Epoch: 1, Running loss: 1.8129346528922572\n",
      "Test Error Percent: 34.400001525878906 %\n",
      "Epoch: 2, Running loss: 0.920786334189779\n",
      "Test Error Percent: 25.800003051757812 %\n",
      "Epoch: 3, Running loss: 0.7352039508664532\n",
      "Test Error Percent: 21.80999755859375 %\n",
      "Epoch: 4, Running loss: 0.6408132784275103\n",
      "Test Error Percent: 19.519996643066406 %\n",
      "Epoch: 5, Running loss: 0.5803064330300288\n",
      "Test Error Percent: 17.81999969482422 %\n",
      "Epoch: 6, Running loss: 0.5372051700060048\n",
      "Test Error Percent: 16.589996337890625 %\n",
      "Epoch: 7, Running loss: 0.5045609448287787\n",
      "Test Error Percent: 15.569999694824219 %\n",
      "Epoch: 8, Running loss: 0.47828808477692514\n",
      "Test Error Percent: 15.0 %\n",
      "Epoch: 9, Running loss: 0.45629421280009913\n",
      "Test Error Percent: 14.389999389648438 %\n",
      "Epoch: 10, Running loss: 0.4376131148417113\n",
      "Test Error Percent: 13.959999084472656 %\n",
      "Epoch: 11, Running loss: 0.42163564720705377\n",
      "Test Error Percent: 13.470001220703125 %\n",
      "Epoch: 12, Running loss: 0.4077888297151401\n",
      "Test Error Percent: 13.080001831054688 %\n",
      "Epoch: 13, Running loss: 0.39547276835261125\n",
      "Test Error Percent: 12.709999084472656 %\n",
      "Epoch: 14, Running loss: 0.3843358331191133\n",
      "Test Error Percent: 12.260002136230469 %\n",
      "Epoch: 15, Running loss: 0.3741041101785357\n",
      "Test Error Percent: 12.110000610351562 %\n",
      "Epoch: 16, Running loss: 0.3651304613711483\n",
      "Test Error Percent: 12.010002136230469 %\n",
      "Epoch: 17, Running loss: 0.3562507469818663\n",
      "Test Error Percent: 11.889999389648438 %\n",
      "Epoch: 18, Running loss: 0.3483291632934674\n",
      "Test Error Percent: 11.660003662109375 %\n",
      "Epoch: 19, Running loss: 0.3409421687949695\n",
      "Test Error Percent: 11.360000610351562 %\n",
      "Epoch: 20, Running loss: 0.33418181076296355\n",
      "Test Error Percent: 11.370002746582031 %\n",
      "Epoch: 21, Running loss: 0.327652838645078\n",
      "Test Error Percent: 11.099998474121094 %\n",
      "Epoch: 22, Running loss: 0.32160163658069396\n",
      "Test Error Percent: 11.160003662109375 %\n",
      "Epoch: 23, Running loss: 0.3157300613582261\n",
      "Test Error Percent: 10.769996643066406 %\n",
      "Epoch: 24, Running loss: 0.31028142499167527\n",
      "Test Error Percent: 10.75 %\n",
      "Epoch: 25, Running loss: 0.305079231662219\n",
      "Test Error Percent: 10.400001525878906 %\n",
      "Epoch: 26, Running loss: 0.30021639718715826\n",
      "Test Error Percent: 10.370002746582031 %\n",
      "Epoch: 27, Running loss: 0.29542101176181584\n",
      "Test Error Percent: 10.290000915527344 %\n",
      "Epoch: 28, Running loss: 0.290847065749326\n",
      "Test Error Percent: 10.180000305175781 %\n",
      "Epoch: 29, Running loss: 0.28670033920548366\n",
      "Test Error Percent: 9.970001220703125 %\n",
      "Epoch: 30, Running loss: 0.2823794240286864\n",
      "Test Error Percent: 9.889999389648438 %\n",
      "Epoch: 31, Running loss: 0.27870064738716904\n",
      "Test Error Percent: 9.860000610351562 %\n",
      "Epoch: 32, Running loss: 0.2747013891405706\n",
      "Test Error Percent: 9.709999084472656 %\n",
      "Epoch: 33, Running loss: 0.2710389042380395\n",
      "Test Error Percent: 9.639999389648438 %\n",
      "Epoch: 34, Running loss: 0.26736006110525334\n",
      "Test Error Percent: 9.55999755859375 %\n",
      "Epoch: 35, Running loss: 0.26397305781017744\n",
      "Test Error Percent: 9.510002136230469 %\n",
      "Epoch: 36, Running loss: 0.26069353906108117\n",
      "Test Error Percent: 9.480003356933594 %\n",
      "Epoch: 37, Running loss: 0.25733337558106956\n",
      "Test Error Percent: 9.339996337890625 %\n",
      "Epoch: 38, Running loss: 0.25435345189403624\n",
      "Test Error Percent: 9.349998474121094 %\n",
      "Epoch: 39, Running loss: 0.25121234103179435\n",
      "Test Error Percent: 9.209999084472656 %\n",
      "Epoch: 40, Running loss: 0.2486015284525306\n",
      "Test Error Percent: 9.110000610351562 %\n",
      "Epoch: 41, Running loss: 0.24552460775367105\n",
      "Test Error Percent: 9.069999694824219 %\n",
      "Epoch: 42, Running loss: 0.24264292369709847\n",
      "Test Error Percent: 9.080001831054688 %\n",
      "Epoch: 43, Running loss: 0.24022749738732\n",
      "Test Error Percent: 9.019996643066406 %\n",
      "Epoch: 44, Running loss: 0.23771084420112912\n",
      "Test Error Percent: 8.919998168945312 %\n",
      "Epoch: 45, Running loss: 0.235047760691597\n",
      "Test Error Percent: 8.870002746582031 %\n",
      "Epoch: 46, Running loss: 0.23238654213467005\n",
      "Test Error Percent: 8.760002136230469 %\n",
      "Epoch: 47, Running loss: 0.22997585664203427\n",
      "Test Error Percent: 8.790000915527344 %\n",
      "Epoch: 48, Running loss: 0.22761963049311246\n",
      "Test Error Percent: 8.709999084472656 %\n",
      "Epoch: 49, Running loss: 0.2253413654760575\n",
      "Test Error Percent: 8.569999694824219 %\n",
      "Epoch: 50, Running loss: 0.22313641334202752\n",
      "Test Error Percent: 8.760002136230469 %\n"
     ]
    }
   ],
   "source": [
    "model = torch.nn.Sequential(\n",
    "    torch.nn.Linear(input_size, hidden_layers[0]),\n",
    "    torch.nn.Sigmoid(),\n",
    "    torch.nn.Linear(hidden_layers[0], hidden_layers[1]),\n",
    "    torch.nn.Sigmoid(),\n",
    "    torch.nn.Linear(hidden_layers[1], output_size),\n",
    "    torch.nn.LogSoftmax(dim=1)\n",
    ")\n",
    "model.apply(init_weights)\n",
    "# print(model)\n",
    "criterion = torch.nn.CrossEntropyLoss()\n",
    "optimizer = torch.optim.SGD(model.parameters(), lr=lr)\n",
    "\n",
    "epochs = 50\n",
    "losses = []\n",
    "for e in range(epochs):\n",
    "    running_loss = 0\n",
    "    for x, y in trainloader:\n",
    "        \n",
    "        x = x.view(x.shape[0], -1)\n",
    "        \n",
    "        optimizer.zero_grad()        \n",
    "        output = model(x)\n",
    "        loss = criterion(output, y)\n",
    "        \n",
    "        loss.backward()\n",
    "        \n",
    "        optimizer.step()\n",
    "        running_loss += loss.item()\n",
    "    print(f\"Epoch: {e+1}, Running loss: {running_loss/len(trainloader)}\")\n",
    "    losses.append(running_loss/len(trainloader))\n",
    "\n",
    "    correct=0\n",
    "    with torch.no_grad():\n",
    "        for images,labels in testloader:\n",
    "            logps = model(images.view(images.shape[0], -1))\n",
    "            output = torch.squeeze(logps)\n",
    "            pred = output.data.max(1, keepdim=True)[1]\n",
    "            correct += pred.eq(labels.data.view_as(pred)).sum()\n",
    "    # print(f\"Test Accuracy Percent: {100. * correct / len(testloader.dataset)} %\")\n",
    "    print(f\"Test Error Percent: {100 - (100. * correct / len(testloader.dataset))} %\")"
   ]
  },
  {
   "cell_type": "code",
   "execution_count": 26,
   "metadata": {},
   "outputs": [
    {
     "data": {
      "image/png": "[encoded data removed]",
      "text/plain": [
       "<Figure size 640x480 with 1 Axes>"
      ]
     },
     "metadata": {},
     "output_type": "display_data"
    }
   ],
   "source": [
    "plt.xlabel('Epochs')\n",
    "plt.ylabel('Train Loss')\n",
    "plt.plot(losses)\n",
    "plt.show()"
   ]
  },
  {
   "cell_type": "code",
   "execution_count": null,
   "metadata": {},
   "outputs": [],
   "source": []
  }
 ],
 "metadata": {
  "kernelspec": {
   "display_name": "Python 3",
   "language": "python",
   "name": "python3"
  },
  "language_info": {
   "codemirror_mode": {
    "name": "ipython",
    "version": 3
   },
   "file_extension": ".py",
   "mimetype": "text/x-python",
   "name": "python",
   "nbconvert_exporter": "python",
   "pygments_lexer": "ipython3",
   "version": "3.7.9"
  },
  "orig_nbformat": 4
 },
 "nbformat": 4,
 "nbformat_minor": 2
}
