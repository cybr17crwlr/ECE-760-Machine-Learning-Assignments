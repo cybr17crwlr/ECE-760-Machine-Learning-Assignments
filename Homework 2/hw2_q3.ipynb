{
 "cells": [
  {
   "cell_type": "code",
   "execution_count": 29,
   "metadata": {},
   "outputs": [],
   "source": [
    "import numpy as np\n",
    "import pandas as pd\n",
    "import operator"
   ]
  },
  {
   "attachments": {},
   "cell_type": "markdown",
   "metadata": {},
   "source": [
    "## Question 3"
   ]
  },
  {
   "cell_type": "code",
   "execution_count": 34,
   "metadata": {},
   "outputs": [
    {
     "data": {
      "text/html": [
       "<div>\n",
       "<style scoped>\n",
       "    .dataframe tbody tr th:only-of-type {\n",
       "        vertical-align: middle;\n",
       "    }\n",
       "\n",
       "    .dataframe tbody tr th {\n",
       "        vertical-align: top;\n",
       "    }\n",
       "\n",
       "    .dataframe thead th {\n",
       "        text-align: right;\n",
       "    }\n",
       "</style>\n",
       "<table border=\"1\" class=\"dataframe\">\n",
       "  <thead>\n",
       "    <tr style=\"text-align: right;\">\n",
       "      <th></th>\n",
       "      <th>X1</th>\n",
       "      <th>X2</th>\n",
       "      <th>Y</th>\n",
       "    </tr>\n",
       "  </thead>\n",
       "  <tbody>\n",
       "    <tr>\n",
       "      <th>0</th>\n",
       "      <td>0.1</td>\n",
       "      <td>-2.0</td>\n",
       "      <td>0.0</td>\n",
       "    </tr>\n",
       "    <tr>\n",
       "      <th>1</th>\n",
       "      <td>0.0</td>\n",
       "      <td>-1.0</td>\n",
       "      <td>1.0</td>\n",
       "    </tr>\n",
       "    <tr>\n",
       "      <th>2</th>\n",
       "      <td>0.0</td>\n",
       "      <td>0.0</td>\n",
       "      <td>0.0</td>\n",
       "    </tr>\n",
       "    <tr>\n",
       "      <th>3</th>\n",
       "      <td>0.0</td>\n",
       "      <td>1.0</td>\n",
       "      <td>0.0</td>\n",
       "    </tr>\n",
       "    <tr>\n",
       "      <th>4</th>\n",
       "      <td>0.0</td>\n",
       "      <td>2.0</td>\n",
       "      <td>0.0</td>\n",
       "    </tr>\n",
       "    <tr>\n",
       "      <th>5</th>\n",
       "      <td>0.0</td>\n",
       "      <td>3.0</td>\n",
       "      <td>0.0</td>\n",
       "    </tr>\n",
       "    <tr>\n",
       "      <th>6</th>\n",
       "      <td>0.0</td>\n",
       "      <td>4.0</td>\n",
       "      <td>0.0</td>\n",
       "    </tr>\n",
       "    <tr>\n",
       "      <th>7</th>\n",
       "      <td>0.0</td>\n",
       "      <td>5.0</td>\n",
       "      <td>0.0</td>\n",
       "    </tr>\n",
       "    <tr>\n",
       "      <th>8</th>\n",
       "      <td>0.0</td>\n",
       "      <td>6.0</td>\n",
       "      <td>1.0</td>\n",
       "    </tr>\n",
       "    <tr>\n",
       "      <th>9</th>\n",
       "      <td>0.0</td>\n",
       "      <td>7.0</td>\n",
       "      <td>0.0</td>\n",
       "    </tr>\n",
       "    <tr>\n",
       "      <th>10</th>\n",
       "      <td>0.0</td>\n",
       "      <td>8.0</td>\n",
       "      <td>1.0</td>\n",
       "    </tr>\n",
       "  </tbody>\n",
       "</table>\n",
       "</div>"
      ],
      "text/plain": [
       "     X1   X2    Y\n",
       "0   0.1 -2.0  0.0\n",
       "1   0.0 -1.0  1.0\n",
       "2   0.0  0.0  0.0\n",
       "3   0.0  1.0  0.0\n",
       "4   0.0  2.0  0.0\n",
       "5   0.0  3.0  0.0\n",
       "6   0.0  4.0  0.0\n",
       "7   0.0  5.0  0.0\n",
       "8   0.0  6.0  1.0\n",
       "9   0.0  7.0  0.0\n",
       "10  0.0  8.0  1.0"
      ]
     },
     "execution_count": 34,
     "metadata": {},
     "output_type": "execute_result"
    }
   ],
   "source": [
    "with open(\"data/Druns.txt\",'r') as f:\n",
    "    data = []\n",
    "    for line in f.readlines():\n",
    "        data.append([float(i) for i in line.strip().split(\" \")])\n",
    "data = pd.DataFrame(data)\n",
    "data.columns = [f\"X{i}\" for i in range(1,data.shape[1])]+[\"Y\"]\n",
    "data"
   ]
  },
  {
   "cell_type": "code",
   "execution_count": 43,
   "metadata": {},
   "outputs": [],
   "source": [
    "def entropy(df):\n",
    "        entropy = 0\n",
    "        for target in np.unique(df['Y']):\n",
    "            probability = df['Y'].value_counts()[target] / len(df['Y'])\n",
    "            if probability>0:\n",
    "                entropy -= probability * np.log2(probability)\n",
    "\n",
    "        return entropy"
   ]
  },
  {
   "cell_type": "code",
   "execution_count": 79,
   "metadata": {},
   "outputs": [],
   "source": [
    "def calc_feature_info(df):\n",
    "    ent_base = entropy(df)\n",
    "    feature_set = df[[col for col in df.columns if \"X\" in col]]\n",
    "    datalen = len(df)\n",
    "    for feature in feature_set:\n",
    "        candid_points = sorted(df[feature].unique())\n",
    "        for can_point in candid_points:\n",
    "            total_ent = 0\n",
    "            ent_weight = 0\n",
    "            for op in [operator.lt,operator.ge]:\n",
    "                split_ = df[op(df[feature],can_point)]\n",
    "\n",
    "                if len(split_)>0:\n",
    "                    ent_ = entropy(split_)\n",
    "                    total_ent += len(split_)*ent_/datalen\n",
    "                    ent_weight += (len(split_)/datalen)*np.log2(datalen/len(split_))\n",
    "            if (ent_weight>0):\n",
    "                info_gain_ratio = (ent_base-total_ent)/ent_weight\n",
    "                print(\"Split with \", feature, \">=\",can_point, \"\\t Info. Gain Ratio: \", info_gain_ratio)\n",
    "            else:\n",
    "                print(\"Split with \", feature, \">=\", can_point, \"\\t Info. Gain: \", (ent_base-total_ent))"
   ]
  },
  {
   "cell_type": "code",
   "execution_count": 80,
   "metadata": {},
   "outputs": [
    {
     "name": "stdout",
     "output_type": "stream",
     "text": [
      "Split with  X1 >= 0.0 \t Info. Gain:  0.0\n",
      "Split with  X1 >= 0.1 \t Info. Gain Ratio:  0.10051807676021828\n",
      "Split with  X2 >= -2.0 \t Info. Gain:  0.0\n",
      "Split with  X2 >= -1.0 \t Info. Gain Ratio:  0.10051807676021828\n",
      "Split with  X2 >= 0.0 \t Info. Gain Ratio:  0.05595375963126383\n",
      "Split with  X2 >= 1.0 \t Info. Gain Ratio:  0.005780042205152189\n",
      "Split with  X2 >= 2.0 \t Info. Gain Ratio:  0.001144349517276632\n",
      "Split with  X2 >= 3.0 \t Info. Gain Ratio:  0.016411136842102023\n",
      "Split with  X2 >= 4.0 \t Info. Gain Ratio:  0.049749064181778435\n",
      "Split with  X2 >= 5.0 \t Info. Gain Ratio:  0.11124029586339801\n",
      "Split with  X2 >= 6.0 \t Info. Gain Ratio:  0.236099606143608\n",
      "Split with  X2 >= 7.0 \t Info. Gain Ratio:  0.05595375963126383\n",
      "Split with  X2 >= 8.0 \t Info. Gain Ratio:  0.4301569161309807\n"
     ]
    }
   ],
   "source": [
    "calc_feature_info(data)"
   ]
  }
 ],
 "metadata": {
  "kernelspec": {
   "display_name": "Python 3",
   "language": "python",
   "name": "python3"
  },
  "language_info": {
   "codemirror_mode": {
    "name": "ipython",
    "version": 3
   },
   "file_extension": ".py",
   "mimetype": "text/x-python",
   "name": "python",
   "nbconvert_exporter": "python",
   "pygments_lexer": "ipython3",
   "version": "3.7.9"
  },
  "orig_nbformat": 4,
  "vscode": {
   "interpreter": {
    "hash": "949777d72b0d2535278d3dc13498b2535136f6dfe0678499012e853ee9abcab1"
   }
  }
 },
 "nbformat": 4,
 "nbformat_minor": 2
}
